{
 "cells": [
  {
   "cell_type": "code",
   "execution_count": null,
   "id": "2e15b751-f4ed-4a87-8ad6-8c26f36eee19",
   "metadata": {},
   "outputs": [],
   "source": []
  },
  {
   "cell_type": "code",
   "execution_count": 7,
   "id": "86ed833f-2076-4eec-a53a-dc96f27b20ab",
   "metadata": {},
   "outputs": [],
   "source": [
    "import os\n",
    "import warnings\n",
    "import sys\n",
    "\n",
    "import pandas as pd\n",
    "import numpy as np\n",
    "\n",
    "from sklearn.metrics import mean_squared_error, mean_absolute_error, r2_score\n",
    "from sklearn.model_selection import train_test_split\n",
    "from sklearn.linear_model import ElasticNet\n",
    "\n",
    "import mlflow\n",
    "import mlflow.sklearn"
   ]
  },
  {
   "cell_type": "code",
   "execution_count": 8,
   "id": "381101f1-360a-4d32-9bc6-b428cbf73a2d",
   "metadata": {},
   "outputs": [
    {
     "data": {
      "text/html": [
       "<div>\n",
       "<style scoped>\n",
       "    .dataframe tbody tr th:only-of-type {\n",
       "        vertical-align: middle;\n",
       "    }\n",
       "\n",
       "    .dataframe tbody tr th {\n",
       "        vertical-align: top;\n",
       "    }\n",
       "\n",
       "    .dataframe thead th {\n",
       "        text-align: right;\n",
       "    }\n",
       "</style>\n",
       "<table border=\"1\" class=\"dataframe\">\n",
       "  <thead>\n",
       "    <tr style=\"text-align: right;\">\n",
       "      <th></th>\n",
       "      <th>fixed acidity</th>\n",
       "      <th>volatile acidity</th>\n",
       "      <th>citric acid</th>\n",
       "      <th>residual sugar</th>\n",
       "      <th>chlorides</th>\n",
       "      <th>free sulfur dioxide</th>\n",
       "      <th>total sulfur dioxide</th>\n",
       "      <th>density</th>\n",
       "      <th>pH</th>\n",
       "      <th>sulphates</th>\n",
       "      <th>alcohol</th>\n",
       "      <th>quality</th>\n",
       "    </tr>\n",
       "  </thead>\n",
       "  <tbody>\n",
       "    <tr>\n",
       "      <th>2219</th>\n",
       "      <td>6.5</td>\n",
       "      <td>0.24</td>\n",
       "      <td>0.36</td>\n",
       "      <td>2.2</td>\n",
       "      <td>0.027</td>\n",
       "      <td>36.0</td>\n",
       "      <td>134.0</td>\n",
       "      <td>0.98980</td>\n",
       "      <td>3.28</td>\n",
       "      <td>0.36</td>\n",
       "      <td>12.5</td>\n",
       "      <td>7</td>\n",
       "    </tr>\n",
       "    <tr>\n",
       "      <th>3231</th>\n",
       "      <td>6.8</td>\n",
       "      <td>0.21</td>\n",
       "      <td>0.37</td>\n",
       "      <td>7.0</td>\n",
       "      <td>0.038</td>\n",
       "      <td>27.0</td>\n",
       "      <td>107.0</td>\n",
       "      <td>0.99206</td>\n",
       "      <td>2.98</td>\n",
       "      <td>0.82</td>\n",
       "      <td>11.5</td>\n",
       "      <td>6</td>\n",
       "    </tr>\n",
       "    <tr>\n",
       "      <th>3264</th>\n",
       "      <td>5.9</td>\n",
       "      <td>0.24</td>\n",
       "      <td>0.12</td>\n",
       "      <td>1.4</td>\n",
       "      <td>0.035</td>\n",
       "      <td>60.0</td>\n",
       "      <td>247.0</td>\n",
       "      <td>0.99358</td>\n",
       "      <td>3.34</td>\n",
       "      <td>0.44</td>\n",
       "      <td>9.6</td>\n",
       "      <td>6</td>\n",
       "    </tr>\n",
       "    <tr>\n",
       "      <th>3069</th>\n",
       "      <td>7.0</td>\n",
       "      <td>0.53</td>\n",
       "      <td>0.43</td>\n",
       "      <td>6.1</td>\n",
       "      <td>0.029</td>\n",
       "      <td>6.0</td>\n",
       "      <td>76.0</td>\n",
       "      <td>0.99118</td>\n",
       "      <td>3.08</td>\n",
       "      <td>0.50</td>\n",
       "      <td>12.5</td>\n",
       "      <td>8</td>\n",
       "    </tr>\n",
       "    <tr>\n",
       "      <th>3759</th>\n",
       "      <td>7.8</td>\n",
       "      <td>0.19</td>\n",
       "      <td>0.32</td>\n",
       "      <td>7.4</td>\n",
       "      <td>0.015</td>\n",
       "      <td>47.0</td>\n",
       "      <td>124.0</td>\n",
       "      <td>0.99278</td>\n",
       "      <td>2.99</td>\n",
       "      <td>0.39</td>\n",
       "      <td>11.0</td>\n",
       "      <td>6</td>\n",
       "    </tr>\n",
       "    <tr>\n",
       "      <th>3330</th>\n",
       "      <td>6.7</td>\n",
       "      <td>0.23</td>\n",
       "      <td>0.33</td>\n",
       "      <td>8.1</td>\n",
       "      <td>0.048</td>\n",
       "      <td>45.0</td>\n",
       "      <td>176.0</td>\n",
       "      <td>0.99472</td>\n",
       "      <td>3.11</td>\n",
       "      <td>0.52</td>\n",
       "      <td>10.1</td>\n",
       "      <td>6</td>\n",
       "    </tr>\n",
       "    <tr>\n",
       "      <th>907</th>\n",
       "      <td>7.1</td>\n",
       "      <td>0.25</td>\n",
       "      <td>0.39</td>\n",
       "      <td>2.1</td>\n",
       "      <td>0.036</td>\n",
       "      <td>30.0</td>\n",
       "      <td>124.0</td>\n",
       "      <td>0.99080</td>\n",
       "      <td>3.28</td>\n",
       "      <td>0.43</td>\n",
       "      <td>12.2</td>\n",
       "      <td>8</td>\n",
       "    </tr>\n",
       "    <tr>\n",
       "      <th>43</th>\n",
       "      <td>6.6</td>\n",
       "      <td>0.24</td>\n",
       "      <td>0.27</td>\n",
       "      <td>1.4</td>\n",
       "      <td>0.057</td>\n",
       "      <td>33.0</td>\n",
       "      <td>152.0</td>\n",
       "      <td>0.99340</td>\n",
       "      <td>3.22</td>\n",
       "      <td>0.56</td>\n",
       "      <td>9.5</td>\n",
       "      <td>6</td>\n",
       "    </tr>\n",
       "    <tr>\n",
       "      <th>2663</th>\n",
       "      <td>8.0</td>\n",
       "      <td>0.13</td>\n",
       "      <td>0.25</td>\n",
       "      <td>1.1</td>\n",
       "      <td>0.033</td>\n",
       "      <td>15.0</td>\n",
       "      <td>86.0</td>\n",
       "      <td>0.99044</td>\n",
       "      <td>2.98</td>\n",
       "      <td>0.39</td>\n",
       "      <td>11.2</td>\n",
       "      <td>8</td>\n",
       "    </tr>\n",
       "    <tr>\n",
       "      <th>1372</th>\n",
       "      <td>10.7</td>\n",
       "      <td>0.22</td>\n",
       "      <td>0.56</td>\n",
       "      <td>8.2</td>\n",
       "      <td>0.044</td>\n",
       "      <td>37.0</td>\n",
       "      <td>181.0</td>\n",
       "      <td>0.99800</td>\n",
       "      <td>2.87</td>\n",
       "      <td>0.68</td>\n",
       "      <td>9.5</td>\n",
       "      <td>6</td>\n",
       "    </tr>\n",
       "  </tbody>\n",
       "</table>\n",
       "</div>"
      ],
      "text/plain": [
       "      fixed acidity  volatile acidity  citric acid  residual sugar  chlorides  \\\n",
       "2219            6.5              0.24         0.36             2.2      0.027   \n",
       "3231            6.8              0.21         0.37             7.0      0.038   \n",
       "3264            5.9              0.24         0.12             1.4      0.035   \n",
       "3069            7.0              0.53         0.43             6.1      0.029   \n",
       "3759            7.8              0.19         0.32             7.4      0.015   \n",
       "3330            6.7              0.23         0.33             8.1      0.048   \n",
       "907             7.1              0.25         0.39             2.1      0.036   \n",
       "43              6.6              0.24         0.27             1.4      0.057   \n",
       "2663            8.0              0.13         0.25             1.1      0.033   \n",
       "1372           10.7              0.22         0.56             8.2      0.044   \n",
       "\n",
       "      free sulfur dioxide  total sulfur dioxide  density    pH  sulphates  \\\n",
       "2219                 36.0                 134.0  0.98980  3.28       0.36   \n",
       "3231                 27.0                 107.0  0.99206  2.98       0.82   \n",
       "3264                 60.0                 247.0  0.99358  3.34       0.44   \n",
       "3069                  6.0                  76.0  0.99118  3.08       0.50   \n",
       "3759                 47.0                 124.0  0.99278  2.99       0.39   \n",
       "3330                 45.0                 176.0  0.99472  3.11       0.52   \n",
       "907                  30.0                 124.0  0.99080  3.28       0.43   \n",
       "43                   33.0                 152.0  0.99340  3.22       0.56   \n",
       "2663                 15.0                  86.0  0.99044  2.98       0.39   \n",
       "1372                 37.0                 181.0  0.99800  2.87       0.68   \n",
       "\n",
       "      alcohol  quality  \n",
       "2219     12.5        7  \n",
       "3231     11.5        6  \n",
       "3264      9.6        6  \n",
       "3069     12.5        8  \n",
       "3759     11.0        6  \n",
       "3330     10.1        6  \n",
       "907      12.2        8  \n",
       "43        9.5        6  \n",
       "2663     11.2        8  \n",
       "1372      9.5        6  "
      ]
     },
     "execution_count": 8,
     "metadata": {},
     "output_type": "execute_result"
    }
   ],
   "source": [
    "data_path = \"data/wine-quality.csv\"\n",
    "data = pd.read_csv(data_path)\n",
    "\n",
    "data.sample(10)"
   ]
  },
  {
   "cell_type": "code",
   "execution_count": 9,
   "id": "ac6147e7-925a-4c3d-ab8a-574757b24a5a",
   "metadata": {},
   "outputs": [],
   "source": [
    "# mlflow server --backend-store-uri mlruns/ --default-artifact-root mlruns/ --host 0.0.0.0 --port 5000\n",
    "remote_server_uri = \"http://127.0.0.1:5000\" # set to your server URI\n",
    "mlflow.set_tracking_uri(remote_server_uri)  # or set the MLFLOW_TRACKING_URI in the env"
   ]
  },
  {
   "cell_type": "code",
   "execution_count": 10,
   "id": "00dfe457-ae11-43a1-a5c7-c932ca923db7",
   "metadata": {},
   "outputs": [
    {
     "data": {
      "text/plain": [
       "'http://127.0.0.1:5000'"
      ]
     },
     "execution_count": 10,
     "metadata": {},
     "output_type": "execute_result"
    }
   ],
   "source": [
    "mlflow.tracking.get_tracking_uri()"
   ]
  },
  {
   "cell_type": "code",
   "execution_count": 11,
   "id": "629de7d8-72a2-4075-8c9d-11ee705b6c5a",
   "metadata": {},
   "outputs": [
    {
     "data": {
      "text/plain": [
       "<Experiment: artifact_location='mlflow-artifacts:/722937459539626797', creation_time=1702878000160, experiment_id='722937459539626797', last_update_time=1702878000160, lifecycle_stage='active', name='ElasticNet_wine', tags={}>"
      ]
     },
     "execution_count": 11,
     "metadata": {},
     "output_type": "execute_result"
    }
   ],
   "source": [
    "exp_name = \"ElasticNet_wine\"\n",
    "mlflow.set_experiment(exp_name)"
   ]
  },
  {
   "cell_type": "code",
   "execution_count": 12,
   "id": "eab563c7-f821-4f1a-b97c-5628ee5914c9",
   "metadata": {},
   "outputs": [],
   "source": [
    "def eval_metrics(actual, pred):\n",
    "    # compute relevant metrics\n",
    "    rmse = np.sqrt(mean_squared_error(actual, pred))\n",
    "    mae = mean_absolute_error(actual, pred)\n",
    "    r2 = r2_score(actual, pred)\n",
    "    return rmse, mae, r2\n",
    "\n",
    "\n",
    "def load_data(data_path):\n",
    "    data = pd.read_csv(data_path)\n",
    "\n",
    "    # Split the data into training and test sets. (0.75, 0.25) split.\n",
    "    train, test = train_test_split(data)\n",
    "\n",
    "    # The predicted column is \"quality\" which is a scalar from [3, 9]\n",
    "    train_x = train.drop([\"quality\"], axis=1)\n",
    "    test_x = test.drop([\"quality\"], axis=1)\n",
    "    train_y = train[[\"quality\"]]\n",
    "    test_y = test[[\"quality\"]]\n",
    "    return train_x, train_y, test_x, test_y\n",
    "\n",
    "\n",
    "def train(alpha=0.5, l1_ratio=0.5):\n",
    "    # train a model with given parameters\n",
    "    warnings.filterwarnings(\"ignore\")\n",
    "    np.random.seed(40)\n",
    "\n",
    "    # Read the wine-quality csv file (make sure you're running this from the root of MLflow!)\n",
    "    data_path = \"data/wine-quality.csv\"\n",
    "    train_x, train_y, test_x, test_y = load_data(data_path)\n",
    "\n",
    "    # Useful for multiple runs (only doing one run in this sample notebook)    \n",
    "    with mlflow.start_run():\n",
    "        # Execute ElasticNet\n",
    "        lr = ElasticNet(alpha=alpha, l1_ratio=l1_ratio, random_state=42)\n",
    "        lr.fit(train_x, train_y)\n",
    "\n",
    "        # Evaluate Metrics\n",
    "        predicted_qualities = lr.predict(test_x)\n",
    "        (rmse, mae, r2) = eval_metrics(test_y, predicted_qualities)\n",
    "\n",
    "        # Print out metrics\n",
    "        print(\"Elasticnet model (alpha=%f, l1_ratio=%f):\" % (alpha, l1_ratio))\n",
    "        print(\"  RMSE: %s\" % rmse)\n",
    "        print(\"  MAE: %s\" % mae)\n",
    "        print(\"  R2: %s\" % r2)\n",
    "\n",
    "        # Log parameter, metrics, and model to MLflow\n",
    "        mlflow.log_param(key=\"alpha\", value=alpha)\n",
    "        mlflow.log_param(key=\"l1_ratio\", value=l1_ratio)\n",
    "        mlflow.log_metric(key=\"rmse\", value=rmse)\n",
    "        mlflow.log_metrics({\"mae\": mae, \"r2\": r2})\n",
    "        mlflow.log_artifact(data_path)\n",
    "        print(\"Save to: {}\".format(mlflow.get_artifact_uri()))\n",
    "        \n",
    "        mlflow.sklearn.log_model(lr, \"model\")"
   ]
  },
  {
   "cell_type": "code",
   "execution_count": 13,
   "id": "a1c8e577-c15b-45d5-99d3-a5e28652b6b7",
   "metadata": {},
   "outputs": [
    {
     "name": "stdout",
     "output_type": "stream",
     "text": [
      "Elasticnet model (alpha=0.500000, l1_ratio=0.500000):\n",
      "  RMSE: 0.8222428497595401\n",
      "  MAE: 0.6278761410160693\n",
      "  R2: 0.12678721972772666\n",
      "Save to: mlflow-artifacts:/722937459539626797/cfa6820d6d79498c9319180a20b8ca95/artifacts\n"
     ]
    },
    {
     "name": "stderr",
     "output_type": "stream",
     "text": [
      "2023/12/18 11:59:07 WARNING mlflow.utils.environment: Encountered an unexpected error while inferring pip requirements (model URI: /tmp/tmpkbbirxmw/model/model.pkl, flavor: sklearn), fall back to return ['scikit-learn==1.3.0', 'cloudpickle==3.0.0']. Set logging level to DEBUG to see the full traceback.\n"
     ]
    }
   ],
   "source": [
    "train(0.5, 0.5)"
   ]
  },
  {
   "cell_type": "code",
   "execution_count": 14,
   "id": "3097f906-9b66-4894-8dd3-bc9061c20dcf",
   "metadata": {},
   "outputs": [
    {
     "name": "stderr",
     "output_type": "stream",
     "text": [
      "2023/12/18 11:59:08 WARNING mlflow.utils.environment: Encountered an unexpected error while inferring pip requirements (model URI: /tmp/tmprp0uof32/model/model.pkl, flavor: sklearn), fall back to return ['scikit-learn==1.3.0', 'cloudpickle==3.0.0']. Set logging level to DEBUG to see the full traceback.\n"
     ]
    },
    {
     "name": "stdout",
     "output_type": "stream",
     "text": [
      "Elasticnet model (alpha=0.200000, l1_ratio=0.200000):\n",
      "  RMSE: 0.7859129997062342\n",
      "  MAE: 0.6155290394093894\n",
      "  R2: 0.20224631822892092\n",
      "Save to: mlflow-artifacts:/722937459539626797/0a55f85ec0384d38a92a09ed39dcb257/artifacts\n"
     ]
    }
   ],
   "source": [
    "train(0.2, 0.2)"
   ]
  },
  {
   "cell_type": "code",
   "execution_count": 15,
   "id": "c054a445-0637-47db-81f9-25d6c9ddb094",
   "metadata": {},
   "outputs": [
    {
     "name": "stderr",
     "output_type": "stream",
     "text": [
      "2023/12/18 11:59:08 WARNING mlflow.utils.environment: Encountered an unexpected error while inferring pip requirements (model URI: /tmp/tmpgrlv9ikg/model/model.pkl, flavor: sklearn), fall back to return ['scikit-learn==1.3.0', 'cloudpickle==3.0.0']. Set logging level to DEBUG to see the full traceback.\n"
     ]
    },
    {
     "name": "stdout",
     "output_type": "stream",
     "text": [
      "Elasticnet model (alpha=0.100000, l1_ratio=0.100000):\n",
      "  RMSE: 0.7792546522251949\n",
      "  MAE: 0.6112547988118586\n",
      "  R2: 0.2157063843066196\n",
      "Save to: mlflow-artifacts:/722937459539626797/5b0d9dbd8295418b900b555e09f77694/artifacts\n"
     ]
    }
   ],
   "source": [
    "train(0.1, 0.1)"
   ]
  },
  {
   "cell_type": "code",
   "execution_count": null,
   "id": "517758fd-78ed-44bd-9653-770d1eb8d792",
   "metadata": {},
   "outputs": [],
   "source": []
  }
 ],
 "metadata": {
  "kernelspec": {
   "display_name": "Python 3.8.18 ('mle-dev')",
   "language": "python",
   "name": "python3"
  },
  "language_info": {
   "codemirror_mode": {
    "name": "ipython",
    "version": 3
   },
   "file_extension": ".py",
   "mimetype": "text/x-python",
   "name": "python",
   "nbconvert_exporter": "python",
   "pygments_lexer": "ipython3",
   "version": "3.8.18"
  },
  "vscode": {
   "interpreter": {
    "hash": "b4c9d08742251748d1eea78463885d9de59bae8ef2273c7ea045ecd07de81d7e"
   }
  }
 },
 "nbformat": 4,
 "nbformat_minor": 5
}
